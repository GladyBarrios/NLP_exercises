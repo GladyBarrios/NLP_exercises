{
 "cells": [
  {
   "cell_type": "markdown",
   "id": "a5085f59",
   "metadata": {},
   "source": [
    "Codeup Blog Articles\n",
    "\n",
    "Visit Codeup's Blog and record the urls for at least 5 distinct blog posts. For each post, you should scrape at least the post's title and content.\n",
    "\n",
    "Encapsulate your work in a function named get_blog_articles that will return a list of dictionaries, with each dictionary representing one article. The shape of each dictionary should look like this:"
   ]
  },
  {
   "cell_type": "code",
   "execution_count": 1,
   "id": "1331c4b6",
   "metadata": {},
   "outputs": [],
   "source": [
    "from requests import get\n",
    "from bs4 import BeautifulSoup\n",
    "import os\n"
   ]
  },
  {
   "cell_type": "code",
   "execution_count": 2,
   "id": "56ca9a14",
   "metadata": {},
   "outputs": [],
   "source": [
    "url = 'https://codeup.com/tips-for-prospective-students/mental-health-first-aid-training/'\n",
    "url2= 'https://codeup.com/codeup-news/inclusion-at-codeup-during-pride-month-and-always/'\n",
    "url3='https://codeup.com/dallas-newsletter/codeup-dallas-joins-career-day/'\n",
    "url4='https://codeup.com/workshops/from-bootcamp-to-bootcamp-a-military-appreciation-panel/'\n",
    "url5= 'https://codeup.com/featured/5-reasons-to-attend-our-new-cloud-administration-program/'\n",
    "headers = {'User-Agent': 'Codeup Data Science'} # Some websites don't accept the pyhon-requests default user-agent\n",
    "\n"
   ]
  },
  {
   "cell_type": "code",
   "execution_count": 4,
   "id": "fe875c78",
   "metadata": {},
   "outputs": [
    {
     "data": {
      "text/plain": [
       "<Response [200]>"
      ]
     },
     "execution_count": 4,
     "metadata": {},
     "output_type": "execute_result"
    }
   ],
   "source": [
    "response = get(url, headers=headers)\n",
    "response"
   ]
  },
  {
   "cell_type": "code",
   "execution_count": 5,
   "id": "897fcbb1",
   "metadata": {},
   "outputs": [
    {
     "name": "stdout",
     "output_type": "stream",
     "text": [
      "<!DOCTYPE html>\n",
      "<html lang=\"en-US\">\n",
      "<head>\n",
      "\t<meta charset=\"UTF-8\" />\n",
      "<meta http-equiv=\"X-UA-Compatible\" content=\"IE=edge\">\n",
      "\t<link rel=\"pingback\" href=\"https://codeup.com/xmlrpc.php\" />\n",
      "\n",
      "\t<script type=\"text/javascript\">\n",
      "\t\tdocument.documentElement.className = 'js';\n",
      "\t</script>\n",
      "\t\n",
      "\t<link rel=\"preconnect\" href=\"https://fonts.gstatic.com\" crossorigin /><script id=\"diviarea-loader\">window.DiviPopupData=wi\n"
     ]
    }
   ],
   "source": [
    "print(response.text[:400])\n"
   ]
  },
  {
   "cell_type": "code",
   "execution_count": 6,
   "id": "8ebc6b34",
   "metadata": {},
   "outputs": [],
   "source": [
    "# Make a soup variable holding the response content\n",
    "soup = BeautifulSoup(response.content, 'html.parser')\n"
   ]
  },
  {
   "cell_type": "code",
   "execution_count": 10,
   "id": "b2499a94",
   "metadata": {},
   "outputs": [
    {
     "data": {
      "text/plain": [
       "'Mental Health First Aid Training May 31, 2022 | Tips for Prospective Students   As a student of Codeup, going through a massive career transition can be mentally taxing. Did you know that members of our student-facing staff and human resources team are trained in Mental Health First Aid? Let’s dive into what that means for Codeup!\\xa0 Mental Health First Aid Training\\xa0 Some of our Codeup staff that works directly with our students are trained in Mental Health First Aid. This includes members of our student experience team, career coaches, and the human resources department. This training was courtesy of the Center for Health Care Services in San Antonio. They graciously provided the funding and training for our team in this pilot training program.\\xa0 What is Mental Health First Aid? According to mentalhhealthfirstaid.org, “is a course that teaches you how to identify, understand, and respond to signs of mental illness and substance use disorders. The training gives you the skills you need to reach out and provide initial help and support to someone who may be developing a mental health or substance use problem or experiencing a crisis”. To be clear, our staff are not licensed, mental health professionals. What MHFA equips our staff with are tools to gauge risk and connect students and staff with the help they might need. This might include recognizing something in a meeting, picking up on cues during a casual conversation, or acting on a pattern behavior.\\xa0 How does this help our students? Many who go through Codeup’s programs will tell you it is both rewarding and challenging all at the same time. Some students have compared learning at Codeup to\\xa0 “drinking from a firehouse”. You learn so much at once, so fast. This style of learning if you are not used to it can be taxing on anyone’s mental fortitude. This allows our staff who work closely with the students to be able to identify if a student is in need of mental health help.\\xa0 Consider Your Career Change Today Why does this skill set matter? You! We’re here to support your career transition as best we can, and Mental Health First Aid training is just one small piece of that larger support effort. Learn more about how we can support your career transition by applying today.\\xa0 \\xa0         Our ProgramsCloud Administration Full Stack Web Development Data Science      Latest Blog Articles Is a Career in Tech Recession-Proof? Codeup X Superhero Car Show & Comic Con What Jobs Can You Get After a Coding Bootcamp? Part 3: Web Development Codeup’s New Dallas Campus Codeup TV Commercial'"
      ]
     },
     "execution_count": 10,
     "metadata": {},
     "output_type": "execute_result"
    }
   ],
   "source": [
    "# see also `soup.find_all`\n",
    "#\n",
    "# beautiful soup uses `class_` as the keyword argument for searching\n",
    "# for a class because `class` is a reserved word in python\n",
    "# we'll use the class name that we identified from looking in the inspector in chrome\n",
    "article = soup.find('div', id='main-content').text.strip().replace('\\n',' ')\n",
    "article\n"
   ]
  },
  {
   "cell_type": "code",
   "execution_count": 8,
   "id": "0ac585b5",
   "metadata": {},
   "outputs": [],
   "source": [
    "with open('article.txt', 'w') as f:\n",
    "    f.write(article.text)\n"
   ]
  },
  {
   "cell_type": "code",
   "execution_count": 21,
   "id": "aa26a198",
   "metadata": {},
   "outputs": [],
   "source": [
    "def get_article(url):\n",
    "    \n",
    "    # otherwise go fetch the data\n",
    "    url = url\n",
    "    headers = {'User-Agent': 'Codeup Data Science'}\n",
    "    response = get(url, headers=headers)\n",
    "    soup = BeautifulSoup(response.content, 'html.parser')\n",
    "    article = soup.find('div', id='main-content')\n",
    "    output = {}\n",
    "    output['title'] = soup.find('h1', class_='entry-title').text\n",
    "    output['content'] = soup.find('div', class_='entry-content').text.strip().replace('\\n',' ')\n",
    "    \n",
    "    return output\n"
   ]
  },
  {
   "cell_type": "code",
   "execution_count": 22,
   "id": "58f8f192",
   "metadata": {
    "scrolled": false
   },
   "outputs": [
    {
     "data": {
      "text/plain": [
       "{'title': 'Inclusion at Codeup During Pride Month (and Always)',\n",
       " 'content': 'Happy Pride Month! Pride Month is a dedicated time to celebrate and support the LGBTQIA+ community. At Codeup, one of our core values is Cultivating Inclusive Growth, something that takes on many shapes, sizes, forms, and colors. From representation in tech to empowering and supporting all, let’s reflect on how we live out this core value for our LGBTQIA+ community, not just during Pride Month, but always. Cultivating Inclusive Growth We’re firm believers that the people making tech should look like the people using it, which is everyone. We’re proud to offer Pride Scholarships year round, which aim to increase, support, and promote representation of the LGBTQIA+ community in tech. However, representation is only one part of cultivating inclusive growth. We want to help create a thriving tech community where everyone feels represented, but also safe and empowered. In a 2019 survey conducted by Blind, 83% of LGBQ technologists and 78% of trans or gender non-conforming technologists reported that they felt safe in the workplace. In 2020, those numbers dropped to 76% and 64%, respectively. Why the drop? Maybe recent pushes for representation in tech weren’t followed up with efforts to truly cultivate inclusivity and growth. Codeup Initiatives To cultivate inclusive growth, we don’t stop at representation. We also empower and support our community so that no one feels unsafe. Our internal DEI Taskforce empowers our staff with resources and conversations that aim to create a diverse culture of support, safety, and inclusivity for each other and our students. Equipped with this knowledge, our staff can cultivate inclusive growth from the first time they interact with an applicant all the way until they get placed into a new job. They may have even felt empowered just by seeing our students and staff sporting their Pride t-shirts around town.\\xa0 Not only do we want the people making tech to look like the people using it, we also want them to feel safe and empowered to do so. If you’re looking for a career in tech, let us empower you every step of the way! First, apply now. Then, apply for our Pride Scholarship.'}"
      ]
     },
     "execution_count": 22,
     "metadata": {},
     "output_type": "execute_result"
    }
   ],
   "source": [
    "get_article(url2)"
   ]
  },
  {
   "cell_type": "markdown",
   "id": "8a8d6f2c",
   "metadata": {},
   "source": [
    "---"
   ]
  },
  {
   "cell_type": "markdown",
   "id": "fa15a457",
   "metadata": {},
   "source": [
    "News Articles\n",
    "\n",
    "We will now be scraping text data from inshorts, a website that provides a brief overview of many different topics.\n",
    "\n",
    "Write a function that scrapes the news articles for the following topics:\n",
    "\n",
    "Business\n",
    "\n",
    "Sports\n",
    "\n",
    "Technology\n",
    "\n",
    "Entertainment\n",
    "\n",
    "The end product of this should be a function named get_news_articles that returns a list of dictionaries, where each dictionary has this shape:"
   ]
  },
  {
   "cell_type": "markdown",
   "id": "ec71b0ec",
   "metadata": {},
   "source": [
    "{\n",
    "    'title': 'The article title',\n",
    "    'content': 'The article content',\n",
    "    'category': 'business' # for example\n",
    "}\n"
   ]
  },
  {
   "cell_type": "code",
   "execution_count": 39,
   "id": "336739de",
   "metadata": {},
   "outputs": [
    {
     "data": {
      "text/plain": [
       "<Response [200]>"
      ]
     },
     "execution_count": 39,
     "metadata": {},
     "output_type": "execute_result"
    }
   ],
   "source": [
    "#creating websites parameters:\n",
    "url1 = 'https://inshorts.com/en/read/'\n",
    "headers = {'User-Agent': 'Codeup Data Science Student'}\n",
    "    \n",
    "response = get(url1, headers=headers)\n",
    "response"
   ]
  },
  {
   "cell_type": "code",
   "execution_count": 40,
   "id": "d211abca",
   "metadata": {},
   "outputs": [],
   "source": [
    "# Make a soup variable holding the response content\n",
    "soup = BeautifulSoup(response.content, 'html.parser')"
   ]
  },
  {
   "cell_type": "code",
   "execution_count": 41,
   "id": "1a034000",
   "metadata": {},
   "outputs": [],
   "source": [
    "#finding the title of the first article on the news-card page:\n",
    "cards = soup.find('div', class_='card-stack')"
   ]
  },
  {
   "cell_type": "code",
   "execution_count": 42,
   "id": "2323d285",
   "metadata": {},
   "outputs": [],
   "source": [
    "#naming all articles from find_all and then pulling only first article:\n",
    "articles = cards.find_all('div', class_ = 'news-card')\n",
    "article = articles[0]"
   ]
  },
  {
   "cell_type": "code",
   "execution_count": 43,
   "id": "661818d8",
   "metadata": {},
   "outputs": [
    {
     "data": {
      "text/plain": [
       "<div class=\"news-card z-depth-1\" itemscope=\"\" itemtype=\"http://schema.org/NewsArticle\">\n",
       "<span content=\"\" itemid=\"https://inshorts.com/en/news/in-latenight-order-hc-allows-ganesh-chaturthi-celebrations-at-hubballis-eidgah-maidan-1661886365452\" itemprop=\"mainEntityOfPage\" itemscope=\"\" itemtype=\"https://schema.org/WebPage\"></span>\n",
       "<span itemprop=\"author\" itemscope=\"itemscope\" itemtype=\"https://schema.org/Person\">\n",
       "<span content=\"Shreyasi Banerjee\" itemprop=\"name\"></span>\n",
       "</span>\n",
       "<span content=\"In late-night order, HC allows Ganesh Chaturthi celebrations at Hubballi's Eidgah Maidan\" itemprop=\"description\"></span>\n",
       "<span itemprop=\"image\" itemscope=\"\" itemtype=\"https://schema.org/ImageObject\">\n",
       "<meta content=\"https://static.inshorts.com/inshorts/images/v1/variants/jpg/m/2022/08_aug/30_tue/img_1661885324833_949.jpg?\" itemprop=\"url\"/>\n",
       "<meta content=\"864\" itemprop=\"width\"/>\n",
       "<meta content=\"483\" itemprop=\"height\"/>\n",
       "</span>\n",
       "<span itemprop=\"publisher\" itemscope=\"itemscope\" itemtype=\"https://schema.org/Organization\">\n",
       "<span content=\"https://inshorts.com/\" itemprop=\"url\"></span>\n",
       "<span content=\"Inshorts\" itemprop=\"name\"></span>\n",
       "<span itemprop=\"logo\" itemscope=\"\" itemtype=\"https://schema.org/ImageObject\">\n",
       "<span content=\"https://assets.inshorts.com/inshorts/images/v1/variants/jpg/m/2018/11_nov/21_wed/img_1542823931298_497.jpg\" itemprop=\"url\"></span>\n",
       "<meta content=\"400\" itemprop=\"width\"/>\n",
       "<meta content=\"60\" itemprop=\"height\"/>\n",
       "</span>\n",
       "</span>\n",
       "<div class=\"news-card-image\" style=\"background-image: url('https://static.inshorts.com/inshorts/images/v1/variants/jpg/m/2022/08_aug/30_tue/img_1661885324833_949.jpg?')\">\n",
       "</div>\n",
       "<div class=\"news-card-title news-right-box\">\n",
       "<a class=\"clickable\" href=\"/en/news/in-latenight-order-hc-allows-ganesh-chaturthi-celebrations-at-hubballis-eidgah-maidan-1661886365452\" onclick=\"track_GA_Mixpanel({'hitType': 'event', 'category': 'TitleOfNews', 'action': 'clicked', 'label': 'In%20late-night%20order%2C%20HC%20allows%20Ganesh%20Chaturthi%20celebrations%20at%20Hubballi's%20Eidgah%20Maidan)' });\" style=\"color:#44444d!important\">\n",
       "<span itemprop=\"headline\">In late-night order, HC allows Ganesh Chaturthi celebrations at Hubballi's Eidgah Maidan</span>\n",
       "</a>\n",
       "<div class=\"news-card-author-time news-card-author-time-in-title\">\n",
       "<a href=\"/prev/en/news/in-latenight-order-hc-allows-ganesh-chaturthi-celebrations-at-hubballis-eidgah-maidan-1661886365452\"><span class=\"short\">short</span></a> by <span class=\"author\">Shreyasi Banerjee</span> / \n",
       "      <span class=\"time\" content=\"2022-08-30T19:06:05.000Z\" itemprop=\"datePublished\">12:36 am</span> on <span clas=\"date\">31 Aug 2022,Wednesday</span>\n",
       "</div>\n",
       "</div>\n",
       "<div class=\"news-card-content news-right-box\">\n",
       "<div itemprop=\"articleBody\">The Karnataka High Court on Tuesday upheld authorities' decision to allow Ganesh Chaturthi celebrations at Hubballi's Eidgah Maidan. The HC said that the ground in question is under the Hubballi-Dharwad Municipal Corporation and it is used to carry out regular activities. A bench of Justice Ashok S Kinagi held a late-night hearing and passed the order at 11.30 pm.</div>\n",
       "<div class=\"news-card-author-time news-card-author-time-in-content\">\n",
       "<a href=\"/prev/en/news/in-latenight-order-hc-allows-ganesh-chaturthi-celebrations-at-hubballis-eidgah-maidan-1661886365452\"><span class=\"short\">short</span></a> by <span class=\"author\">Shreyasi Banerjee</span> / \n",
       "      <span class=\"time\" content=\"2022-08-30T19:06:05.000Z\" itemprop=\"dateModified\">12:36 am</span> on <span class=\"date\">31 Aug</span>\n",
       "</div>\n",
       "</div>\n",
       "<div class=\"news-card-footer news-right-box\">\n",
       "<div class=\"read-more\">read more at <a class=\"source\" href=\"https://www.thenewsminute.com/article/order-passed-1130-pm-karnataka-hc-allows-ganesha-idol-hubballi-s-eidgah-167387?amp=&amp;utm_campaign=fullarticle&amp;utm_medium=referral&amp;utm_source=inshorts \" onclick=\"track_GA_Mixpanel({'hitType': 'event', 'category': 'ReadMore', 'action': 'clicked', 'label': 'The%20News%20Minute' });\" target=\"_blank\">The News Minute</a></div>\n",
       "</div>\n",
       "</div>"
      ]
     },
     "execution_count": 43,
     "metadata": {},
     "output_type": "execute_result"
    }
   ],
   "source": [
    "#looking at first article:\n",
    "article"
   ]
  },
  {
   "cell_type": "code",
   "execution_count": 44,
   "id": "68c6a15c",
   "metadata": {},
   "outputs": [
    {
     "data": {
      "text/plain": [
       "\"In late-night order, HC allows Ganesh Chaturthi celebrations at Hubballi's Eidgah Maidan\""
      ]
     },
     "execution_count": 44,
     "metadata": {},
     "output_type": "execute_result"
    }
   ],
   "source": [
    "#grabbing the title from news card:\n",
    "title = article.find(\"span\", itemprop = \"headline\").text\n",
    "title"
   ]
  },
  {
   "cell_type": "code",
   "execution_count": 45,
   "id": "7d19f1f1",
   "metadata": {},
   "outputs": [
    {
     "data": {
      "text/plain": [
       "'Shreyasi Banerjee'"
      ]
     },
     "execution_count": 45,
     "metadata": {},
     "output_type": "execute_result"
    }
   ],
   "source": [
    "#finding the author:\n",
    "author = article.find(\"span\", class_ = \"author\").text\n",
    "author"
   ]
  },
  {
   "cell_type": "code",
   "execution_count": 46,
   "id": "f8694722",
   "metadata": {},
   "outputs": [
    {
     "data": {
      "text/plain": [
       "'31 Aug'"
      ]
     },
     "execution_count": 46,
     "metadata": {},
     "output_type": "execute_result"
    }
   ],
   "source": [
    "#finding the date:\n",
    "date = article.find(\"span\", class_ = \"date\").text\n",
    "date"
   ]
  },
  {
   "cell_type": "code",
   "execution_count": 47,
   "id": "ce1f213a",
   "metadata": {},
   "outputs": [
    {
     "data": {
      "text/plain": [
       "\"The Karnataka High Court on Tuesday upheld authorities' decision to allow Ganesh Chaturthi celebrations at Hubballi's Eidgah Maidan. The HC said that the ground in question is under the Hubballi-Dharwad Municipal Corporation and it is used to carry out regular activities. A bench of Justice Ashok S Kinagi held a late-night hearing and passed the order at 11.30 pm.\""
      ]
     },
     "execution_count": 47,
     "metadata": {},
     "output_type": "execute_result"
    }
   ],
   "source": [
    "#finding the article content:\n",
    "content = article.find(\"div\", itemprop = \"articleBody\").text\n",
    "content"
   ]
  },
  {
   "cell_type": "code",
   "execution_count": 48,
   "id": "4931683a",
   "metadata": {},
   "outputs": [
    {
     "data": {
      "text/plain": [
       "'The News Minute'"
      ]
     },
     "execution_count": 48,
     "metadata": {},
     "output_type": "execute_result"
    }
   ],
   "source": [
    "#grabbing source from news card:\n",
    "source = article.find(\"a\", class_ = \"source\").text\n",
    "source"
   ]
  },
  {
   "cell_type": "code",
   "execution_count": 49,
   "id": "5f0b7fcd",
   "metadata": {},
   "outputs": [],
   "source": [
    "#creating a function that grabs one inshorts article at a time\n",
    "#and reassigns title and content based on topic into a dictionary:\n",
    "\n",
    "def parse_news_article(article, category):\n",
    "    \"\"\"this function pulls inshorts news articles and reassigns the tile and content of the articles\n",
    "    by categoryinto a dicitionary\"\"\"\n",
    "    \n",
    "     #creating the dictionary\n",
    "    output = {}\n",
    "    \n",
    "    output['title'] = article.find(\"span\", itemprop = \"headline\").text.strip()\n",
    "    output['content'] = article.find(\"div\", itemprop = \"articleBody\").text\n",
    "    output['author'] = article.find(\"span\", class_ = \"author\").text\n",
    "    output['date'] = article.find(\"span\", class_ = \"date\").text\n",
    "    output['source'] = article.find(\"a\", class_ = \"source\")\n",
    "    output['category'] = category\n",
    "    \n",
    "    return output\n"
   ]
  },
  {
   "cell_type": "code",
   "execution_count": 50,
   "id": "1c5017a3",
   "metadata": {},
   "outputs": [
    {
     "data": {
      "text/plain": [
       "{'title': \"In late-night order, HC allows Ganesh Chaturthi celebrations at Hubballi's Eidgah Maidan\",\n",
       " 'content': \"The Karnataka High Court on Tuesday upheld authorities' decision to allow Ganesh Chaturthi celebrations at Hubballi's Eidgah Maidan. The HC said that the ground in question is under the Hubballi-Dharwad Municipal Corporation and it is used to carry out regular activities. A bench of Justice Ashok S Kinagi held a late-night hearing and passed the order at 11.30 pm.\",\n",
       " 'author': 'Shreyasi Banerjee',\n",
       " 'date': '31 Aug',\n",
       " 'source': <a class=\"source\" href=\"https://www.thenewsminute.com/article/order-passed-1130-pm-karnataka-hc-allows-ganesha-idol-hubballi-s-eidgah-167387?amp=&amp;utm_campaign=fullarticle&amp;utm_medium=referral&amp;utm_source=inshorts \" onclick=\"track_GA_Mixpanel({'hitType': 'event', 'category': 'ReadMore', 'action': 'clicked', 'label': 'The%20News%20Minute' });\" target=\"_blank\">The News Minute</a>,\n",
       " 'category': 'business'}"
      ]
     },
     "execution_count": 50,
     "metadata": {},
     "output_type": "execute_result"
    }
   ],
   "source": [
    "#testing:\n",
    "parse_news_article(article,'business')"
   ]
  },
  {
   "cell_type": "code",
   "execution_count": null,
   "id": "127f84aa",
   "metadata": {},
   "outputs": [],
   "source": []
  },
  {
   "cell_type": "code",
   "execution_count": null,
   "id": "68af480c",
   "metadata": {},
   "outputs": [],
   "source": []
  },
  {
   "cell_type": "code",
   "execution_count": null,
   "id": "158da9a5",
   "metadata": {},
   "outputs": [],
   "source": []
  },
  {
   "cell_type": "code",
   "execution_count": null,
   "id": "d87f98ac",
   "metadata": {},
   "outputs": [],
   "source": []
  }
 ],
 "metadata": {
  "kernelspec": {
   "display_name": "Python 3 (ipykernel)",
   "language": "python",
   "name": "python3"
  },
  "language_info": {
   "codemirror_mode": {
    "name": "ipython",
    "version": 3
   },
   "file_extension": ".py",
   "mimetype": "text/x-python",
   "name": "python",
   "nbconvert_exporter": "python",
   "pygments_lexer": "ipython3",
   "version": "3.9.12"
  }
 },
 "nbformat": 4,
 "nbformat_minor": 5
}
