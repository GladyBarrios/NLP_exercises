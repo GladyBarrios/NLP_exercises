{
 "cells": [
  {
   "cell_type": "code",
   "execution_count": 1,
   "id": "db198868",
   "metadata": {},
   "outputs": [],
   "source": [
    "import re\n",
    "import pandas as pd"
   ]
  },
  {
   "cell_type": "markdown",
   "id": "ad9423db",
   "metadata": {},
   "source": [
    "### Character Classes\n",
    "\n",
    "|metacharacter | matches |\n",
    "| ------------ | ------- |\n",
    "|  . |  anything |\n",
    "| \\w |  any letter or number |\n",
    "| \\W |  anything that's not a letter or number |\n",
    "| \\d |  any digit |\n",
    "| \\D |  anything that's not a digit |\n",
    "| \\s |  any whitespace character |\n",
    "| [xyz] | any one of the enclosed characters |\n",
    "| [^xyz] | any character that is not enclosed |\n",
    "| x\\|y | \n",
    "\n",
    "### Repeating\n",
    "\n",
    "All of the metacharacters in the table below will match the previous character a repeated number of times.\n",
    "\n",
    "|metacharacter | matches |\n",
    "| ------------ | ------- |\n",
    "| * | zero or more |\n",
    "| + | one or more |\n",
    "| {n} | exactly n repititions |\n",
    "| {n,} | n or more repititions |\n",
    "| {n,m} | between n and m repititions |\n",
    "| ? | an optional character |\n",
    "\n",
    "### Anchors\n",
    "\n",
    "There are several special metacharacters that don't match any individual characters, but serve as an \"anchor\" for the rest of the regular expression.\n",
    "\n",
    "|metacharacter | matches | example |\n",
    "| ------------ | ------- | ------- |\n",
    "| ^ | The start of the string/line | ^[ab] matches the a in `apple` and the b in `banana`|\n",
    "| $ | The end of the string/line | |\n",
    "| \\b | A word boundary | er\\b matches the er in `never` but not the er in `verb` |\n",
    "| \\B| Not word boundary | ear\\B matches the ear in `early` but not the ear in `fear` |"
   ]
  },
  {
   "cell_type": "markdown",
   "id": "b7a440dd",
   "metadata": {},
   "source": [
    "1. Write a function named is_vowel. It should accept a string as input and use a regular expression to determine if the passed string is a vowel. While not explicity mentioned in the lesson, you can treat the result of re.search as a boolean value that indicates whether or not the regular expression matches the given string."
   ]
  },
  {
   "cell_type": "code",
   "execution_count": 6,
   "id": "12f92c86",
   "metadata": {},
   "outputs": [
    {
     "data": {
      "text/plain": [
       "['o', 'a']"
      ]
     },
     "execution_count": 6,
     "metadata": {},
     "output_type": "execute_result"
    }
   ],
   "source": [
    "re.findall(r\"[aeiou]\", \"cowpatty\", re.IGNORECASE)"
   ]
  },
  {
   "cell_type": "code",
   "execution_count": 5,
   "id": "e269616e",
   "metadata": {},
   "outputs": [
    {
     "data": {
      "text/plain": [
       "['o', 'a']"
      ]
     },
     "execution_count": 5,
     "metadata": {},
     "output_type": "execute_result"
    }
   ],
   "source": [
    "re.findall(r\"a|e|i|o|u\", \"cowpatty\", re.IGNORECASE)\n"
   ]
  },
  {
   "cell_type": "code",
   "execution_count": 7,
   "id": "206781d9",
   "metadata": {},
   "outputs": [],
   "source": [
    "def is_vowel(string):\n",
    "    vowel = re.findall(r\"a|e|i|o|u\", string, re.IGNORECASE)\n",
    "    return vowel"
   ]
  },
  {
   "cell_type": "code",
   "execution_count": 9,
   "id": "ecf4b913",
   "metadata": {},
   "outputs": [
    {
     "data": {
      "text/plain": [
       "['o', 'a']"
      ]
     },
     "execution_count": 9,
     "metadata": {},
     "output_type": "execute_result"
    }
   ],
   "source": [
    "is_vowel(\"cowpatty\")"
   ]
  },
  {
   "cell_type": "markdown",
   "id": "d296c6c2",
   "metadata": {},
   "source": [
    "While not explicity mentioned in the lesson, you can treat the result of re.search as a boolean value that indicates whether or not the regular expression matches the given string."
   ]
  },
  {
   "cell_type": "code",
   "execution_count": 10,
   "id": "415315d8",
   "metadata": {},
   "outputs": [],
   "source": [
    "def is_vowel(string):\n",
    "    vowel = re.search(r\"a|e|i|o|u\", string, re.IGNORECASE)\n",
    "    return bool(vowel)"
   ]
  },
  {
   "cell_type": "code",
   "execution_count": 11,
   "id": "465ea3ad",
   "metadata": {},
   "outputs": [
    {
     "data": {
      "text/plain": [
       "True"
      ]
     },
     "execution_count": 11,
     "metadata": {},
     "output_type": "execute_result"
    }
   ],
   "source": [
    "is_vowel(\"cowpatty\")"
   ]
  },
  {
   "cell_type": "markdown",
   "id": "63fb4754",
   "metadata": {},
   "source": [
    "2. Write a function named is_valid_username that accepts a string as input.\n",
    "    - A valid username starts with a lowercase letter, and \n",
    "    - only consists of lowercase letters, numbers, or the _ character. \n",
    "    - It should also be no longer than 32 characters. \n",
    "    - The function should return either True or False depending on whether the passed string is a valid username."
   ]
  },
  {
   "cell_type": "code",
   "execution_count": null,
   "id": "9d28ac02",
   "metadata": {},
   "outputs": [],
   "source": [
    "def is_valid_username(string):\n",
    "    #carrot for starts with \n",
    "    #list all options for contents of username with no commas \n",
    "    #allow 32 digits \n",
    "    password_pattern = r\"^[a-z][a-z0-9_]{,31}$\"\n",
    "    return bool(re.search(password_pattern, string))"
   ]
  },
  {
   "cell_type": "markdown",
   "id": "f170737d",
   "metadata": {},
   "source": [
    "3. Write a regular expression to capture phone numbers. It should match all of the following:\n",
    "\n",
    "(210) 867 5309\n",
    "+1 210.867.5309\n",
    "867-5309\n",
    "210-867-5309\n"
   ]
  },
  {
   "cell_type": "code",
   "execution_count": 12,
   "id": "c2644810",
   "metadata": {},
   "outputs": [
    {
     "data": {
      "text/plain": [
       "<re.Match object; span=(0, 12), match='210-867-5309'>"
      ]
     },
     "execution_count": 12,
     "metadata": {},
     "output_type": "execute_result"
    }
   ],
   "source": [
    "phone_number = '210-867-5309'\n",
    "#assigning regex to accept 0-9, ()+- symbols, and + all after 0 range:\n",
    "regexp = r'[0-9()+-. ]+'\n",
    "re.match(regexp, phone_number)"
   ]
  },
  {
   "cell_type": "code",
   "execution_count": 13,
   "id": "5f5c6092",
   "metadata": {},
   "outputs": [
    {
     "data": {
      "text/plain": [
       "<re.Match object; span=(0, 12), match='210-867-5309'>"
      ]
     },
     "execution_count": 13,
     "metadata": {},
     "output_type": "execute_result"
    }
   ],
   "source": [
    "re.match(r'[0-9()+-. ]+','210-867-5309')"
   ]
  },
  {
   "cell_type": "code",
   "execution_count": 14,
   "id": "3384f2d2",
   "metadata": {},
   "outputs": [
    {
     "data": {
      "text/plain": [
       "<re.Match object; span=(0, 15), match='+1 210.867.5309'>"
      ]
     },
     "execution_count": 14,
     "metadata": {},
     "output_type": "execute_result"
    }
   ],
   "source": [
    "re.match(r'[0-9()+-. ]+','+1 210.867.5309')"
   ]
  },
  {
   "cell_type": "markdown",
   "id": "b0bd1dfa",
   "metadata": {},
   "source": [
    "4. Use regular expressions to convert the dates below to the standardized year-month-day format.\n",
    "\n",
    "02/04/19\n",
    "02/05/19\n",
    "02/06/19\n",
    "02/07/19\n",
    "02/08/19\n",
    "02/09/19\n",
    "02/10/19\n"
   ]
  },
  {
   "cell_type": "code",
   "execution_count": null,
   "id": "aca4f9e6",
   "metadata": {},
   "outputs": [],
   "source": []
  },
  {
   "cell_type": "code",
   "execution_count": null,
   "id": "985e24c7",
   "metadata": {},
   "outputs": [],
   "source": []
  },
  {
   "cell_type": "markdown",
   "id": "861062c1",
   "metadata": {},
   "source": [
    "5. Write a regex to extract the various parts of these logfile lines:\n",
    "\n",
    "GET /api/v1/sales?page=86 [16/Apr/2019:193452+0000] HTTP/1.1 {200} 510348 \"python-requests/2.21.0\" 97.105.19.58\n",
    "POST /users_accounts/file-upload [16/Apr/2019:193452+0000] HTTP/1.1 {201} 42 \"User-Agent: Mozilla/5.0 (X11; Fedora; Fedora; Linux x86_64) AppleWebKit/537.36 (KHTML, like Gecko) Chrome/73.0.3683.86 Safari/537.36\" 97.105.19.58\n",
    "GET /api/v1/items?page=3 [16/Apr/2019:193453+0000] HTTP/1.1 {429} 3561 \"python-requests/2.21.0\" 97.105.19.58\n",
    "\n"
   ]
  },
  {
   "cell_type": "code",
   "execution_count": 15,
   "id": "f916e836",
   "metadata": {},
   "outputs": [],
   "source": [
    "log_file = r'''\n",
    "^(?P<method>GET|POST)\n",
    "\\s+\n",
    "(?P<path>.*?)\n",
    "\\s+\n",
    "\\[(?P<timestamp>.*?)\\]\n",
    "\\s+\n",
    "(?P<http_version>.*?)\n",
    "\\s+\n",
    "\\{(?P<status>\\d+)\\}\n",
    "\\s+\n",
    "(?P<bytes_sent>\\d+)\n",
    "\\s+\n",
    "\"(?P<user_agent>.*)\"\n",
    "\\s\n",
    "(?P<ip>.*)$\n",
    "'''"
   ]
  },
  {
   "cell_type": "code",
   "execution_count": 16,
   "id": "0ae866b6",
   "metadata": {},
   "outputs": [],
   "source": [
    "lines = pd.Series(['GET /api/v1/sales?page=86 [16/Apr/2019:193452+0000] HTTP/1.1 {200} 510348 \"python-requests/2.21.0\" 97.105.19.58',\n",
    "                                'POST /users_accounts/file-upload [16/Apr/2019:193452+0000] HTTP/1.1 {201} 42 \"User-Agent: Mozilla/5.0 (X11; Fedora; Fedora; Linux x86_64) AppleWebKit/537.36 (KHTML, like Gecko) Chrome/73.0.3683.86 Safari/537.36\" 97.105.19.58',\n",
    "                                'GET /api/v1/items?page=3 [16/Apr/2019:193453+0000] HTTP/1.1 {429} 3561 \"python-requests/2.21.0\" 97.105.19.58'\n",
    "                               ])"
   ]
  },
  {
   "cell_type": "code",
   "execution_count": 17,
   "id": "0d1240d3",
   "metadata": {},
   "outputs": [
    {
     "data": {
      "text/plain": [
       "0    GET /api/v1/sales?page=86 [16/Apr/2019:193452+...\n",
       "1    POST /users_accounts/file-upload [16/Apr/2019:...\n",
       "2    GET /api/v1/items?page=3 [16/Apr/2019:193453+0...\n",
       "dtype: object"
      ]
     },
     "execution_count": 17,
     "metadata": {},
     "output_type": "execute_result"
    }
   ],
   "source": [
    "lines"
   ]
  },
  {
   "cell_type": "code",
   "execution_count": 18,
   "id": "a6a26659",
   "metadata": {},
   "outputs": [],
   "source": [
    "#create a column called log for the logfile lines in the df:\n",
    "df=lines.str.extract(log_file, re.VERBOSE)"
   ]
  },
  {
   "cell_type": "code",
   "execution_count": 19,
   "id": "ee906ba9",
   "metadata": {},
   "outputs": [
    {
     "data": {
      "text/html": [
       "<div>\n",
       "<style scoped>\n",
       "    .dataframe tbody tr th:only-of-type {\n",
       "        vertical-align: middle;\n",
       "    }\n",
       "\n",
       "    .dataframe tbody tr th {\n",
       "        vertical-align: top;\n",
       "    }\n",
       "\n",
       "    .dataframe thead th {\n",
       "        text-align: right;\n",
       "    }\n",
       "</style>\n",
       "<table border=\"1\" class=\"dataframe\">\n",
       "  <thead>\n",
       "    <tr style=\"text-align: right;\">\n",
       "      <th></th>\n",
       "      <th>method</th>\n",
       "      <th>path</th>\n",
       "      <th>timestamp</th>\n",
       "      <th>http_version</th>\n",
       "      <th>status</th>\n",
       "      <th>bytes_sent</th>\n",
       "      <th>user_agent</th>\n",
       "      <th>ip</th>\n",
       "    </tr>\n",
       "  </thead>\n",
       "  <tbody>\n",
       "    <tr>\n",
       "      <th>0</th>\n",
       "      <td>GET</td>\n",
       "      <td>/api/v1/sales?page=86</td>\n",
       "      <td>16/Apr/2019:193452+0000</td>\n",
       "      <td>HTTP/1.1</td>\n",
       "      <td>200</td>\n",
       "      <td>510348</td>\n",
       "      <td>python-requests/2.21.0</td>\n",
       "      <td>97.105.19.58</td>\n",
       "    </tr>\n",
       "    <tr>\n",
       "      <th>1</th>\n",
       "      <td>POST</td>\n",
       "      <td>/users_accounts/file-upload</td>\n",
       "      <td>16/Apr/2019:193452+0000</td>\n",
       "      <td>HTTP/1.1</td>\n",
       "      <td>201</td>\n",
       "      <td>42</td>\n",
       "      <td>User-Agent: Mozilla/5.0 (X11; Fedora; Fedora; ...</td>\n",
       "      <td>97.105.19.58</td>\n",
       "    </tr>\n",
       "    <tr>\n",
       "      <th>2</th>\n",
       "      <td>GET</td>\n",
       "      <td>/api/v1/items?page=3</td>\n",
       "      <td>16/Apr/2019:193453+0000</td>\n",
       "      <td>HTTP/1.1</td>\n",
       "      <td>429</td>\n",
       "      <td>3561</td>\n",
       "      <td>python-requests/2.21.0</td>\n",
       "      <td>97.105.19.58</td>\n",
       "    </tr>\n",
       "  </tbody>\n",
       "</table>\n",
       "</div>"
      ],
      "text/plain": [
       "  method                         path                timestamp http_version  \\\n",
       "0    GET        /api/v1/sales?page=86  16/Apr/2019:193452+0000     HTTP/1.1   \n",
       "1   POST  /users_accounts/file-upload  16/Apr/2019:193452+0000     HTTP/1.1   \n",
       "2    GET         /api/v1/items?page=3  16/Apr/2019:193453+0000     HTTP/1.1   \n",
       "\n",
       "  status bytes_sent                                         user_agent  \\\n",
       "0    200     510348                             python-requests/2.21.0   \n",
       "1    201         42  User-Agent: Mozilla/5.0 (X11; Fedora; Fedora; ...   \n",
       "2    429       3561                             python-requests/2.21.0   \n",
       "\n",
       "             ip  \n",
       "0  97.105.19.58  \n",
       "1  97.105.19.58  \n",
       "2  97.105.19.58  "
      ]
     },
     "execution_count": 19,
     "metadata": {},
     "output_type": "execute_result"
    }
   ],
   "source": [
    "df"
   ]
  },
  {
   "cell_type": "code",
   "execution_count": null,
   "id": "7b0b3673",
   "metadata": {},
   "outputs": [],
   "source": []
  }
 ],
 "metadata": {
  "kernelspec": {
   "display_name": "Python 3 (ipykernel)",
   "language": "python",
   "name": "python3"
  },
  "language_info": {
   "codemirror_mode": {
    "name": "ipython",
    "version": 3
   },
   "file_extension": ".py",
   "mimetype": "text/x-python",
   "name": "python",
   "nbconvert_exporter": "python",
   "pygments_lexer": "ipython3",
   "version": "3.9.12"
  }
 },
 "nbformat": 4,
 "nbformat_minor": 5
}
