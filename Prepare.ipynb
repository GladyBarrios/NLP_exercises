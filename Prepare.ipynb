{
 "cells": [
  {
   "cell_type": "code",
   "execution_count": 14,
   "id": "9a97d936",
   "metadata": {},
   "outputs": [],
   "source": [
    "import unicodedata\n",
    "import re\n",
    "import json\n",
    "\n",
    "import nltk\n",
    "from nltk.tokenize.toktok import ToktokTokenizer\n",
    "from nltk.corpus import stopwords\n",
    "\n",
    "import pandas as pd\n",
    "\n",
    "import aquire\n"
   ]
  },
  {
   "cell_type": "markdown",
   "id": "662bffff",
   "metadata": {},
   "source": [
    "Here's our plan for parsing the text data:\n",
    "\n",
    "Convert text to all lower case for normalcy.\n",
    "Remove any accented characters, non-ASCII characters.\n",
    "Remove special characters.\n",
    "Stem or lemmatize the words.\n",
    "Remove stopwords.\n",
    "Store the clean text and the original text for use in future notebooks.\n"
   ]
  },
  {
   "cell_type": "code",
   "execution_count": 2,
   "id": "9bf96ba0",
   "metadata": {},
   "outputs": [],
   "source": [
    "links= ['https://codeup.com/tips-for-prospective-students/mental-health-first-aid-training/',\n",
    "        'https://codeup.com/codeup-news/inclusion-at-codeup-during-pride-month-and-always/',\n",
    "        'https://codeup.com/dallas-newsletter/codeup-dallas-joins-career-day/',\n",
    "        'https://codeup.com/workshops/from-bootcamp-to-bootcamp-a-military-appreciation-panel/',\n",
    "        'https://codeup.com/featured/5-reasons-to-attend-our-new-cloud-administration-program/']"
   ]
  },
  {
   "cell_type": "code",
   "execution_count": 4,
   "id": "4b65ae2d",
   "metadata": {
    "scrolled": true
   },
   "outputs": [
    {
     "name": "stdout",
     "output_type": "stream",
     "text": [
      "                                               title  \\\n",
      "0               Is a Career in Tech Recession-Proof?   \n",
      "1            Codeup X Superhero Car Show & Comic Con   \n",
      "2  What Jobs Can You Get After a Coding Bootcamp?...   \n",
      "3                         Codeup’s New Dallas Campus   \n",
      "4                               Codeup TV Commercial   \n",
      "5  What Jobs Can You Get After a Coding Bootcamp?...   \n",
      "\n",
      "                                             content  \n",
      "0  Given the current economic climate, many econo...  \n",
      "1  Codeup had a blast at the San Antonio Superher...  \n",
      "2  If you’re considering a career in web developm...  \n",
      "3  Codeup’s Dallas campus has a new location! For...  \n",
      "4  Codeup has officially made its TV debut! Our c...  \n",
      "5  Have you been considering a career in Cloud Ad...  \n"
     ]
    }
   ],
   "source": [
    "original = aquire.get_blog_articles_data()\n",
    "print(original[0:500])\n"
   ]
  },
  {
   "cell_type": "markdown",
   "id": "b4cc335f",
   "metadata": {},
   "source": [
    "# Question 1 \n"
   ]
  },
  {
   "cell_type": "markdown",
   "id": "3b2d996b",
   "metadata": {},
   "source": [
    "1. Define a function named basic_clean. It should take in a string and apply some basic text cleaning to it:\n",
    "\n",
    "Lowercase everything\n",
    "Normalize unicode characters\n",
    "Replace anything that is not a letter, number, whitespace or a single quote."
   ]
  },
  {
   "cell_type": "code",
   "execution_count": 6,
   "id": "93a46558",
   "metadata": {},
   "outputs": [],
   "source": [
    "# article = original.lower()\n",
    "# print(article[0:500])\n"
   ]
  },
  {
   "cell_type": "code",
   "execution_count": 7,
   "id": "a9b18445",
   "metadata": {
    "scrolled": true
   },
   "outputs": [
    {
     "data": {
      "text/plain": [
       "'Given the current economic climate, many economists are considering the U.S. to be entering a recession. This can cause confusion, fear, and uncertainty, especially as it pertains to job security.\\nTo ease some of those feelings, below you’ll find some careers in tech that tend to hold up better than others amid a recession. In the event of a recession, companies will likely shift to digital strategies, making these careers in tech valuable and highly coveted.\\n\\xa0\\n\\n\\nProgrammer/Developer\\nNo matter the programming language you’ve mastered, having the knowledge alone makes you extremely valuable. The coding skills you possess as a programmer or developer are in-demand for companies looking to build or enhance their websites, and enhance their consumer experience. According to the U.S. Bureau of Labor Statistics, jobs in software development are expected to grow 22% by 2030. This is much faster than the average career.\\n\\n\\xa0\\n\\n\\nCloud Administrator\\nMore businesses are transitioning to cloud servers and this increase sparks the need for cloud administrators to maintain and update the cloud infrastructure. Amid a recession, it is likely that efforts regarding security will be heightened as company strategies shift digitally, and managing a more secure server will be the responsibility of the cloud administrator.\\n\\n\\xa0\\n\\n\\nData Analyst\\nDuring a recession, the need to preserve and monitor data, as well as use data to make predictions to drive a business’ initiatives will be heightened. Data analysts would be relied on heavily to study the data presented and interpret it to solve any current or future problems.\\n\\nThe three positions mentioned above can all be obtained after you complete one of our bootcamps, and take as little as 15 to 20 weeks to complete. Upon successful completion, if you do not land a job in-field within 6 months of graduating from a Codeup program, we will refund your paid tuition back to you.*\\n\\xa0\\nCodeup Programs\\nCodeup is a Texas-based career accelerator, built to help you transition to a career in tech seamlessly, and be well-equipped to succeed in your new role. We offer three different programs: Full-Stack Web Development, Cloud Administration, and Data Science. You can learn more about each of them here or by requesting more information on any that may interest you.\\nIf you have any hesitation about changing your career, or about any of our programs please reach out to us. We would love to help you find the program that best suits your needs and interests. Give us a call today at (210) 802- 7289.\\n*See tuition refund details and specifications here.'"
      ]
     },
     "execution_count": 7,
     "metadata": {},
     "output_type": "execute_result"
    }
   ],
   "source": [
    "string = original.content[0]\n",
    "string"
   ]
  },
  {
   "cell_type": "code",
   "execution_count": 8,
   "id": "d92ccb14",
   "metadata": {},
   "outputs": [],
   "source": [
    "string = string.lower()"
   ]
  },
  {
   "cell_type": "code",
   "execution_count": null,
   "id": "60baa8d9",
   "metadata": {},
   "outputs": [],
   "source": [
    "def basic_clean(string):\n",
    "    '''\n",
    "    This function takes in a string and\n",
    "    returns the string normalized.\n",
    "    '''\n",
    "    string = string.lower()\n",
    "    string = unicodedata.normalize('NFKD', string)\\\n",
    "             .encode('ascii', 'ignore')\\\n",
    "             .decode('utf-8', 'ignore')\n",
    "    string = re.sub(r'[^\\w\\s]', '', string)\n",
    "    return string"
   ]
  },
  {
   "cell_type": "markdown",
   "id": "5480e812",
   "metadata": {},
   "source": [
    "2. Define a function named tokenize. It should take in a string and tokenize all the words in the string."
   ]
  },
  {
   "cell_type": "code",
   "execution_count": 9,
   "id": "57773807",
   "metadata": {},
   "outputs": [
    {
     "name": "stdout",
     "output_type": "stream",
     "text": [
      "given the current economic climate , many economists are considering the u.s. to be entering a recession. this can cause confusion , fear , and uncertainty , especially as it pertains to job security.\n",
      "to ease some of those feelings , below you ’ ll find some careers in tech that tend to hold up better than others amid a recession. in the event of a recession , companies will likely shift to digital strategies , making these careers in tech valuable and highly coveted.\n",
      " \n",
      "\n",
      "\n",
      "programmer/developer\n",
      "no matter the programming language you ’ ve mastered , having the knowledge alone makes you extremely valuable. the coding skills you possess as a programmer or developer are in-demand for companies looking to build or enhance their websites , and enhance their consumer experience. according to the u.s. bureau of labor statistics , jobs in software development are expected to grow 22 % by 2030. this is much faster than the average career.\n",
      "\n",
      " \n",
      "\n",
      "\n",
      "cloud administrator\n",
      "more businesses are transitioning to cloud servers and this increase sparks the need for cloud administrators to maintain and update the cloud infrastructure. amid a recession , it is likely that efforts regarding security will be heightened as company strategies shift digitally , and managing a more secure server will be the responsibility of the cloud administrator.\n",
      "\n",
      " \n",
      "\n",
      "\n",
      "data analyst\n",
      "during a recession , the need to preserve and monitor data , as well as use data to make predictions to drive a business ’ initiatives will be heightened. data analysts would be relied on heavily to study the data presented and interpret it to solve any current or future problems.\n",
      "\n",
      "the three positions mentioned above can all be obtained after you complete one of our bootcamps , and take as little as 15 to 20 weeks to complete. upon successful completion , if you do not land a job in-field within 6 months of graduating from a codeup program , we will refund your paid tuition back to you.*\n",
      " \n",
      "codeup programs\n",
      "codeup is a texas-based career accelerator , built to help you transition to a career in tech seamlessly , and be well-equipped to succeed in your new role. we offer three different programs : full-stack web development , cloud administration , and data science. you can learn more about each of them here or by requesting more information on any that may interest you.\n",
      "if you have any hesitation about changing your career , or about any of our programs please reach out to us. we would love to help you find the program that best suits your needs and interests. give us a call today at ( 210 ) 802- 7289.\n",
      "*see tuition refund details and specifications here .\n"
     ]
    }
   ],
   "source": [
    "tokenizer = nltk.tokenize.ToktokTokenizer()\n",
    "\n",
    "print(tokenizer.tokenize(string, return_str=True))"
   ]
  },
  {
   "cell_type": "code",
   "execution_count": null,
   "id": "4183107e",
   "metadata": {},
   "outputs": [],
   "source": [
    "def tokenize(string):\n",
    "    tokenizer = nltk.tokenize.ToktokTokenizer()\n",
    "    string = tokenizer.tokenize(string, return_str=True)[0:500] \n",
    "    return string"
   ]
  },
  {
   "cell_type": "markdown",
   "id": "ceb9d08c",
   "metadata": {},
   "source": [
    "3. Define a function named stem. It should accept some text and return the text after applying stemming to all the words."
   ]
  },
  {
   "cell_type": "code",
   "execution_count": 10,
   "id": "a30b7d4f",
   "metadata": {},
   "outputs": [
    {
     "data": {
      "text/plain": [
       "('call', 'call', 'call')"
      ]
     },
     "execution_count": 10,
     "metadata": {},
     "output_type": "execute_result"
    }
   ],
   "source": [
    "# Create the nltk stemmer object, then use it\n",
    "ps = nltk.porter.PorterStemmer()\n",
    "\n",
    "ps.stem('call'), ps.stem('called'), ps.stem('calling')\n"
   ]
  },
  {
   "cell_type": "code",
   "execution_count": 12,
   "id": "eb77cdd9",
   "metadata": {},
   "outputs": [
    {
     "name": "stdout",
     "output_type": "stream",
     "text": [
      "given the current econom climate, mani economist are consid the u.s. to be enter a recession. thi can caus confusion, fear, and uncertainty, especi as it pertain to job security. to eas some of those feelings, below you’ll find some career in tech that tend to hold up better than other amid a recession. in the event of a recession, compani will like shift to digit strategies, make these career in tech valuabl and highli coveted. programmer/develop no matter the program languag you’v mastered, have the knowledg alon make you extrem valuable. the code skill you possess as a programm or develop are in-demand for compani look to build or enhanc their websites, and enhanc their consum experience. accord to the u.s. bureau of labor statistics, job in softwar develop are expect to grow 22% by 2030. thi is much faster than the averag career. cloud administr more busi are transit to cloud server and thi increas spark the need for cloud administr to maintain and updat the cloud infrastructure. amid a recession, it is like that effort regard secur will be heighten as compani strategi shift digitally, and manag a more secur server will be the respons of the cloud administrator. data analyst dure a recession, the need to preserv and monitor data, as well as use data to make predict to drive a business’ initi will be heightened. data analyst would be reli on heavili to studi the data present and interpret it to solv ani current or futur problems. the three posit mention abov can all be obtain after you complet one of our bootcamps, and take as littl as 15 to 20 week to complete. upon success completion, if you do not land a job in-field within 6 month of graduat from a codeup program, we will refund your paid tuition back to you.* codeup program codeup is a texas-bas career accelerator, built to help you transit to a career in tech seamlessly, and be well-equip to succeed in your new role. we offer three differ programs: full-stack web development, cloud administration, and data science. you can learn more about each of them here or by request more inform on ani that may interest you. if you have ani hesit about chang your career, or about ani of our program pleas reach out to us. we would love to help you find the program that best suit your need and interests. give us a call today at (210) 802- 7289. *see tuition refund detail and specif here.\n"
     ]
    }
   ],
   "source": [
    "stems = [ps.stem(word) for word in string.split()]\n",
    "article_stemmed = ' '.join(stems)\n",
    "print(article_stemmed)\n"
   ]
  },
  {
   "cell_type": "code",
   "execution_count": null,
   "id": "deca68b0",
   "metadata": {},
   "outputs": [],
   "source": [
    "def stem(string):\n",
    "    \"\"\"This function takes in a string and returns the stemmed version of string\"\"\"\n",
    "    ps = nltk.porter.PorterStemmer()\n",
    "    stems = [ps.stem(word) for word in cleaned.split()]\n",
    "    string = ' '.join(stems)\n",
    "    \n",
    "    return string"
   ]
  },
  {
   "cell_type": "markdown",
   "id": "f7ce9d0d",
   "metadata": {},
   "source": [
    "4. Define a function named lemmatize. It should accept some text and return the text after applying lemmatization to each word.\n",
    "\n"
   ]
  },
  {
   "cell_type": "code",
   "execution_count": 19,
   "id": "0a450ae2",
   "metadata": {
    "scrolled": false
   },
   "outputs": [
    {
     "name": "stdout",
     "output_type": "stream",
     "text": [
      "stem: he -- lemma: He\n",
      "stem: wa -- lemma: wa\n",
      "stem: run -- lemma: running\n",
      "stem: and -- lemma: and\n",
      "stem: eat -- lemma: eating\n",
      "stem: at -- lemma: at\n",
      "stem: same -- lemma: same\n",
      "stem: time. -- lemma: time.\n",
      "stem: he -- lemma: He\n",
      "stem: ha -- lemma: ha\n",
      "stem: bad -- lemma: bad\n",
      "stem: habit -- lemma: habit\n",
      "stem: of -- lemma: of\n",
      "stem: swim -- lemma: swimming\n",
      "stem: after -- lemma: after\n",
      "stem: play -- lemma: playing\n",
      "stem: long -- lemma: long\n",
      "stem: hour -- lemma: hour\n",
      "stem: in -- lemma: in\n",
      "stem: the -- lemma: the\n",
      "stem: sun. -- lemma: Sun.\n"
     ]
    }
   ],
   "source": [
    "wnl = nltk.stem.WordNetLemmatizer()\n",
    "\n",
    "sentence = \"He was running and eating at same time. He has bad habit of swimming after playing long hours in the Sun.\"\n",
    "\n",
    "for word in sentence.split():\n",
    "    print('stem:', ps.stem(word), '-- lemma:', wnl.lemmatize(word))\n"
   ]
  },
  {
   "cell_type": "code",
   "execution_count": 18,
   "id": "0aafae15",
   "metadata": {},
   "outputs": [
    {
     "name": "stderr",
     "output_type": "stream",
     "text": [
      "[nltk_data] Downloading package omw-1.4 to\n",
      "[nltk_data]     /Users/gladybarrios/nltk_data...\n"
     ]
    },
    {
     "data": {
      "text/plain": [
       "True"
      ]
     },
     "execution_count": 18,
     "metadata": {},
     "output_type": "execute_result"
    }
   ],
   "source": [
    "nltk.download('omw-1.4')"
   ]
  },
  {
   "cell_type": "code",
   "execution_count": 16,
   "id": "cd252a42",
   "metadata": {
    "scrolled": false
   },
   "outputs": [
    {
     "name": "stderr",
     "output_type": "stream",
     "text": [
      "[nltk_data] Downloading package wordnet to\n",
      "[nltk_data]     /Users/gladybarrios/nltk_data...\n"
     ]
    },
    {
     "data": {
      "text/plain": [
       "True"
      ]
     },
     "execution_count": 16,
     "metadata": {},
     "output_type": "execute_result"
    }
   ],
   "source": [
    "nltk.download('wordnet')"
   ]
  },
  {
   "cell_type": "code",
   "execution_count": 20,
   "id": "1a544b29",
   "metadata": {},
   "outputs": [
    {
     "name": "stdout",
     "output_type": "stream",
     "text": [
      "stem: studi -- lemma: studying\n",
      "stem: what -- lemma: what\n",
      "stem: they -- lemma: they\n",
      "stem: need -- lemma: needed\n",
      "stem: to -- lemma: to\n",
      "stem: study, -- lemma: study,\n",
      "stem: the -- lemma: the\n",
      "stem: student -- lemma: student\n",
      "stem: studi -- lemma: studied\n",
      "stem: studious -- lemma: studiously\n"
     ]
    }
   ],
   "source": [
    "wnl = nltk.stem.WordNetLemmatizer()\n",
    "\n",
    "for word in 'studying what they needed to study, the students studied studiously'.split():\n",
    "    print('stem:', ps.stem(word), '-- lemma:', wnl.lemmatize(word))\n"
   ]
  },
  {
   "cell_type": "code",
   "execution_count": 21,
   "id": "52baf91c",
   "metadata": {},
   "outputs": [
    {
     "name": "stdout",
     "output_type": "stream",
     "text": [
      "given the current economic climate, many economist are considering the u.s. to be entering a recession. this can cause confusion, fear, and uncertainty, especially a it pertains to job security. to ease some of those feelings, below you’ll find some career in tech that tend to hold up better than others amid a recession. in the event of a recession, company will likely shift to digital strategies, making these career in tech valuable and highly coveted. programmer/developer no matter the programming language you’ve mastered, having the knowledge alone make you extremely valuable. the coding skill you posse a a programmer or developer are in-demand for company looking to build or enhance their websites, and enhance their consumer experience. according to the u.s. bureau of labor statistics, job in software development are expected to grow 22% by 2030. this is much faster than the average career. cloud administrator more business are transitioning to cloud server and this increase spark the need for cloud administrator to maintain and update the cloud infrastructure. amid a recession, it is likely that effort regarding security will be heightened a company strategy shift digitally, and managing a more secure server will be the responsibility of the cloud administrator. data analyst during a recession, the need to preserve and monitor data, a well a use data to make prediction to drive a business’ initiative will be heightened. data analyst would be relied on heavily to study the data presented and interpret it to solve any current or future problems. the three position mentioned above can all be obtained after you complete one of our bootcamps, and take a little a 15 to 20 week to complete. upon successful completion, if you do not land a job in-field within 6 month of graduating from a codeup program, we will refund your paid tuition back to you.* codeup program codeup is a texas-based career accelerator, built to help you transition to a career in tech seamlessly, and be well-equipped to succeed in your new role. we offer three different programs: full-stack web development, cloud administration, and data science. you can learn more about each of them here or by requesting more information on any that may interest you. if you have any hesitation about changing your career, or about any of our program please reach out to us. we would love to help you find the program that best suit your need and interests. give u a call today at (210) 802- 7289. *see tuition refund detail and specification here.\n"
     ]
    }
   ],
   "source": [
    "#since those where just examples from the lecture this will apply to the whole thing\n",
    "lemmas = [wnl.lemmatize(word) for word in string.split()]\n",
    "article_lemmatized = ' '.join(lemmas)\n",
    "\n",
    "print(article_lemmatized)\n"
   ]
  },
  {
   "cell_type": "code",
   "execution_count": 22,
   "id": "550acbfd",
   "metadata": {
    "scrolled": true
   },
   "outputs": [
    {
     "data": {
      "text/plain": [
       "to       23\n",
       "a        20\n",
       "the      16\n",
       "and      13\n",
       "you       8\n",
       "of        8\n",
       "be        7\n",
       "cloud     6\n",
       "in        6\n",
       "or        5\n",
       "dtype: int64"
      ]
     },
     "execution_count": 22,
     "metadata": {},
     "output_type": "execute_result"
    }
   ],
   "source": [
    "pd.Series(lemmas).value_counts()[:10]\n"
   ]
  },
  {
   "cell_type": "code",
   "execution_count": null,
   "id": "4fa56203",
   "metadata": {},
   "outputs": [],
   "source": [
    "def lemmatize(string):\n",
    "    \"\"\"This function takes in a string and returns a lemmatized version of the string.\"\"\"\n",
    "    # create our lemmatizer object\n",
    "    wnl = nltk.stem.WordNetLemmatizer()\n",
    "    # use a list comprehension to lemmatize each word\n",
    "    # string.split() => output a list of every token inside of the document\n",
    "    lemmas = [wnl.lemmatize(word) for word in string.split()]\n",
    "    # glue the lemmas back together by the strings we split on\n",
    "    string = ' '.join(lemmas)\n",
    "    #return the altered document\n",
    "    return string"
   ]
  },
  {
   "cell_type": "markdown",
   "id": "5f638c38",
   "metadata": {},
   "source": [
    "5. Define a function named remove_stopwords. It should accept some text and return the text after removing all the stopwords.\n",
    "\n",
    "This function should define two optional parameters, extra_words and exclude_words. These parameters should define any additional stop words to include, and any words that we don't want to remove."
   ]
  },
  {
   "cell_type": "code",
   "execution_count": 23,
   "id": "ae0caaee",
   "metadata": {},
   "outputs": [
    {
     "data": {
      "text/plain": [
       "['i', 'me', 'my', 'myself', 'we', 'our', 'ours', 'ourselves', 'you', \"you're\"]"
      ]
     },
     "execution_count": 23,
     "metadata": {},
     "output_type": "execute_result"
    }
   ],
   "source": [
    "stopword_list = stopwords.words('english')\n",
    "\n",
    "stopword_list.remove('no')\n",
    "stopword_list.remove('not')\n",
    "\n",
    "stopword_list[:10]\n"
   ]
  },
  {
   "cell_type": "code",
   "execution_count": 25,
   "id": "d482023c",
   "metadata": {},
   "outputs": [
    {
     "name": "stdout",
     "output_type": "stream",
     "text": [
      "Removed 182 stopwords\n",
      "---\n",
      "given current economic climate, many economists considering u.s. entering recession. cause confusion, fear, uncertainty, especially pertains job security. ease feelings, you’ll find careers tech tend hold better others amid recession. event recession, companies likely shift digital strategies, making careers tech valuable highly coveted. programmer/developer no matter programming language you’ve mastered, knowledge alone makes extremely valuable. coding skills possess programmer developer in-demand companies looking build enhance websites, enhance consumer experience. according u.s. bureau labor statistics, jobs software development expected grow 22% 2030. much faster average career. cloud administrator businesses transitioning cloud servers increase sparks need cloud administrators maintain update cloud infrastructure. amid recession, likely efforts regarding security heightened company strategies shift digitally, managing secure server responsibility cloud administrator. data analyst recession, need preserve monitor data, well use data make predictions drive business’ initiatives heightened. data analysts would relied heavily study data presented interpret solve current future problems. three positions mentioned obtained complete one bootcamps, take little 15 20 weeks complete. upon successful completion, not land job in-field within 6 months graduating codeup program, refund paid tuition back you.* codeup programs codeup texas-based career accelerator, built help transition career tech seamlessly, well-equipped succeed new role. offer three different programs: full-stack web development, cloud administration, data science. learn requesting information may interest you. hesitation changing career, programs please reach us. would love help find program best suits needs interests. give us call today (210) 802- 7289. *see tuition refund details specifications here.\n"
     ]
    }
   ],
   "source": [
    "words = string.split()\n",
    "filtered_words = [w for w in words if w not in stopword_list]\n",
    "\n",
    "print('Removed {} stopwords'.format(len(words) - len(filtered_words)))\n",
    "print('---')\n",
    "\n",
    "article_without_stopwords = ' '.join(filtered_words)\n",
    "\n",
    "print(article_without_stopwords)\n"
   ]
  },
  {
   "cell_type": "markdown",
   "id": "d83ea8be",
   "metadata": {},
   "source": [
    "6. Use your data from the acquire to produce a dataframe of the news articles. Name the dataframe news_df."
   ]
  },
  {
   "cell_type": "code",
   "execution_count": null,
   "id": "d366c39e",
   "metadata": {},
   "outputs": [],
   "source": []
  },
  {
   "cell_type": "markdown",
   "id": "d2845ecd",
   "metadata": {},
   "source": [
    "7. Make another dataframe for the Codeup blog posts. Name the dataframe codeup_df."
   ]
  },
  {
   "cell_type": "code",
   "execution_count": null,
   "id": "d4a70b6b",
   "metadata": {},
   "outputs": [],
   "source": []
  },
  {
   "cell_type": "code",
   "execution_count": null,
   "id": "874be102",
   "metadata": {},
   "outputs": [],
   "source": []
  },
  {
   "cell_type": "code",
   "execution_count": null,
   "id": "98d95262",
   "metadata": {},
   "outputs": [],
   "source": []
  },
  {
   "cell_type": "code",
   "execution_count": null,
   "id": "0803fd6d",
   "metadata": {},
   "outputs": [],
   "source": []
  },
  {
   "cell_type": "code",
   "execution_count": null,
   "id": "a08c8ec1",
   "metadata": {},
   "outputs": [],
   "source": []
  },
  {
   "cell_type": "code",
   "execution_count": null,
   "id": "70ba87f8",
   "metadata": {},
   "outputs": [],
   "source": []
  }
 ],
 "metadata": {
  "kernelspec": {
   "display_name": "Python 3 (ipykernel)",
   "language": "python",
   "name": "python3"
  },
  "language_info": {
   "codemirror_mode": {
    "name": "ipython",
    "version": 3
   },
   "file_extension": ".py",
   "mimetype": "text/x-python",
   "name": "python",
   "nbconvert_exporter": "python",
   "pygments_lexer": "ipython3",
   "version": "3.9.12"
  }
 },
 "nbformat": 4,
 "nbformat_minor": 5
}
